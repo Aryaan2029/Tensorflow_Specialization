{
  "nbformat": 4,
  "nbformat_minor": 0,
  "metadata": {
    "accelerator": "GPU",
    "colab": {
      "name": "NLP_Week4_Exercise_Shakespeare_Answer.ipynb",
      "provenance": [],
      "toc_visible": true
    },
    "kernelspec": {
      "display_name": "Python 3",
      "name": "python3"
    }
  },
  "cells": [
    {
      "cell_type": "code",
      "metadata": {
        "id": "zX4Kg8DUTKWO",
        "colab_type": "code",
        "colab": {}
      },
      "source": [
        "#@title Licensed under the Apache License, Version 2.0 (the \"License\");\n",
        "# you may not use this file except in compliance with the License.\n",
        "# You may obtain a copy of the License at\n",
        "#\n",
        "# https://www.apache.org/licenses/LICENSE-2.0\n",
        "#\n",
        "# Unless required by applicable law or agreed to in writing, software\n",
        "# distributed under the License is distributed on an \"AS IS\" BASIS,\n",
        "# WITHOUT WARRANTIES OR CONDITIONS OF ANY KIND, either express or implied.\n",
        "# See the License for the specific language governing permissions and\n",
        "# limitations under the License."
      ],
      "execution_count": null,
      "outputs": []
    },
    {
      "cell_type": "code",
      "metadata": {
        "colab_type": "code",
        "id": "BOwsuGQQY9OL",
        "colab": {}
      },
      "source": [
        "from tensorflow.keras.preprocessing.sequence import pad_sequences\n",
        "from tensorflow.keras.layers import Embedding, LSTM, Dense, Dropout, Bidirectional\n",
        "from tensorflow.keras.preprocessing.text import Tokenizer\n",
        "from tensorflow.keras.models import Sequential\n",
        "from tensorflow.keras.optimizers import Adam\n",
        "from tensorflow.keras import regularizers\n",
        "import tensorflow.keras.utils as ku \n",
        "import numpy as np "
      ],
      "execution_count": 1,
      "outputs": []
    },
    {
      "cell_type": "code",
      "metadata": {
        "colab_type": "code",
        "id": "PRnDnCW-Z7qv",
        "colab": {
          "base_uri": "https://localhost:8080/",
          "height": 204
        },
        "outputId": "288e00ba-24e0-4be0-ed39-57219d5c9e09"
      },
      "source": [
        "tokenizer = Tokenizer()\n",
        "!wget --no-check-certificate \\\n",
        "    https://storage.googleapis.com/laurencemoroney-blog.appspot.com/sonnets.txt \\\n",
        "    -O /tmp/sonnets.txt\n",
        "data = open('/tmp/sonnets.txt').read()\n",
        "\n",
        "corpus = data.lower().split(\"\\n\")\n",
        "\n",
        "\n",
        "tokenizer.fit_on_texts(corpus)\n",
        "total_words = len(tokenizer.word_index) + 1\n",
        "\n",
        "# create input sequences using list of tokens\n",
        "input_sequences = []\n",
        "for line in corpus:\n",
        "\ttoken_list = tokenizer.texts_to_sequences([line])[0]\n",
        "\tfor i in range(1, len(token_list)):\n",
        "\t\tn_gram_sequence = token_list[:i+1]\n",
        "\t\tinput_sequences.append(n_gram_sequence)\n",
        "\n",
        "\n",
        "# pad sequences \n",
        "max_sequence_len = max([len(x) for x in input_sequences])\n",
        "input_sequences = np.array(pad_sequences(input_sequences, maxlen=max_sequence_len, padding='pre'))\n",
        "\n",
        "# create predictors and label\n",
        "predictors, label = input_sequences[:,:-1],input_sequences[:,-1]\n",
        "\n",
        "label = ku.to_categorical(label, num_classes=total_words)"
      ],
      "execution_count": 2,
      "outputs": [
        {
          "output_type": "stream",
          "text": [
            "--2020-06-28 11:25:15--  https://storage.googleapis.com/laurencemoroney-blog.appspot.com/sonnets.txt\n",
            "Resolving storage.googleapis.com (storage.googleapis.com)... 173.194.216.128, 173.194.217.128, 64.233.170.128, ...\n",
            "Connecting to storage.googleapis.com (storage.googleapis.com)|173.194.216.128|:443... connected.\n",
            "HTTP request sent, awaiting response... 200 OK\n",
            "Length: 93578 (91K) [text/plain]\n",
            "Saving to: ‘/tmp/sonnets.txt’\n",
            "\n",
            "\r/tmp/sonnets.txt      0%[                    ]       0  --.-KB/s               \r/tmp/sonnets.txt    100%[===================>]  91.38K  --.-KB/s    in 0.001s  \n",
            "\n",
            "2020-06-28 11:25:15 (154 MB/s) - ‘/tmp/sonnets.txt’ saved [93578/93578]\n",
            "\n"
          ],
          "name": "stdout"
        }
      ]
    },
    {
      "cell_type": "code",
      "metadata": {
        "colab_type": "code",
        "id": "w9vH8Y59ajYL",
        "colab": {
          "base_uri": "https://localhost:8080/",
          "height": 374
        },
        "outputId": "162d83d2-078d-48c7-c456-685ab7fe2d64"
      },
      "source": [
        "model = Sequential()\n",
        "model.add(Embedding(total_words, 100, input_length=max_sequence_len-1))\n",
        "model.add(Bidirectional(LSTM(150, return_sequences = True)))\n",
        "model.add(Dropout(0.2))\n",
        "model.add(LSTM(100))\n",
        "model.add(Dense(total_words/2, activation='relu', kernel_regularizer=regularizers.l2(0.01)))\n",
        "model.add(Dense(total_words, activation='softmax'))\n",
        "model.compile(loss='categorical_crossentropy', optimizer='adam', metrics=['accuracy'])\n",
        "print(model.summary())\n"
      ],
      "execution_count": 3,
      "outputs": [
        {
          "output_type": "stream",
          "text": [
            "Model: \"sequential\"\n",
            "_________________________________________________________________\n",
            "Layer (type)                 Output Shape              Param #   \n",
            "=================================================================\n",
            "embedding (Embedding)        (None, 10, 100)           321100    \n",
            "_________________________________________________________________\n",
            "bidirectional (Bidirectional (None, 10, 300)           301200    \n",
            "_________________________________________________________________\n",
            "dropout (Dropout)            (None, 10, 300)           0         \n",
            "_________________________________________________________________\n",
            "lstm_1 (LSTM)                (None, 100)               160400    \n",
            "_________________________________________________________________\n",
            "dense (Dense)                (None, 1605)              162105    \n",
            "_________________________________________________________________\n",
            "dense_1 (Dense)              (None, 3211)              5156866   \n",
            "=================================================================\n",
            "Total params: 6,101,671\n",
            "Trainable params: 6,101,671\n",
            "Non-trainable params: 0\n",
            "_________________________________________________________________\n",
            "None\n"
          ],
          "name": "stdout"
        }
      ]
    },
    {
      "cell_type": "code",
      "metadata": {
        "colab_type": "code",
        "id": "AIg2f1HBxqof",
        "colab": {
          "base_uri": "https://localhost:8080/",
          "height": 1000
        },
        "outputId": "0d8ccc19-8f2d-4fea-f86d-e1b2789ca096"
      },
      "source": [
        " history = model.fit(predictors, label, epochs=100, verbose=1)"
      ],
      "execution_count": 4,
      "outputs": [
        {
          "output_type": "stream",
          "text": [
            "Epoch 1/100\n",
            "484/484 [==============================] - 5s 11ms/step - loss: 6.9197 - accuracy: 0.0248\n",
            "Epoch 2/100\n",
            "484/484 [==============================] - 5s 11ms/step - loss: 6.4951 - accuracy: 0.0274\n",
            "Epoch 3/100\n",
            "484/484 [==============================] - 5s 11ms/step - loss: 6.3751 - accuracy: 0.0280\n",
            "Epoch 4/100\n",
            "484/484 [==============================] - 5s 11ms/step - loss: 6.2758 - accuracy: 0.0295\n",
            "Epoch 5/100\n",
            "484/484 [==============================] - 5s 10ms/step - loss: 6.1788 - accuracy: 0.0336\n",
            "Epoch 6/100\n",
            "484/484 [==============================] - 5s 11ms/step - loss: 6.0873 - accuracy: 0.0368\n",
            "Epoch 7/100\n",
            "484/484 [==============================] - 5s 11ms/step - loss: 6.0038 - accuracy: 0.0385\n",
            "Epoch 8/100\n",
            "484/484 [==============================] - 5s 10ms/step - loss: 5.9145 - accuracy: 0.0415\n",
            "Epoch 9/100\n",
            "484/484 [==============================] - 5s 10ms/step - loss: 5.8391 - accuracy: 0.0449\n",
            "Epoch 10/100\n",
            "484/484 [==============================] - 5s 11ms/step - loss: 5.7560 - accuracy: 0.0467\n",
            "Epoch 11/100\n",
            "484/484 [==============================] - 5s 10ms/step - loss: 5.6695 - accuracy: 0.0503\n",
            "Epoch 12/100\n",
            "484/484 [==============================] - 5s 11ms/step - loss: 5.5924 - accuracy: 0.0568\n",
            "Epoch 13/100\n",
            "484/484 [==============================] - 5s 11ms/step - loss: 5.5038 - accuracy: 0.0650\n",
            "Epoch 14/100\n",
            "484/484 [==============================] - 5s 11ms/step - loss: 5.4178 - accuracy: 0.0701\n",
            "Epoch 15/100\n",
            "484/484 [==============================] - 5s 11ms/step - loss: 5.3276 - accuracy: 0.0785\n",
            "Epoch 16/100\n",
            "484/484 [==============================] - 5s 10ms/step - loss: 5.2292 - accuracy: 0.0871\n",
            "Epoch 17/100\n",
            "484/484 [==============================] - 5s 10ms/step - loss: 5.1332 - accuracy: 0.0913\n",
            "Epoch 18/100\n",
            "484/484 [==============================] - 5s 11ms/step - loss: 5.0376 - accuracy: 0.1002\n",
            "Epoch 19/100\n",
            "484/484 [==============================] - 5s 11ms/step - loss: 4.9456 - accuracy: 0.1104\n",
            "Epoch 20/100\n",
            "484/484 [==============================] - 5s 11ms/step - loss: 4.8395 - accuracy: 0.1158\n",
            "Epoch 21/100\n",
            "484/484 [==============================] - 5s 11ms/step - loss: 4.7452 - accuracy: 0.1257\n",
            "Epoch 22/100\n",
            "484/484 [==============================] - 5s 11ms/step - loss: 4.6579 - accuracy: 0.1336\n",
            "Epoch 23/100\n",
            "484/484 [==============================] - 5s 11ms/step - loss: 4.5598 - accuracy: 0.1438\n",
            "Epoch 24/100\n",
            "484/484 [==============================] - 5s 11ms/step - loss: 4.4648 - accuracy: 0.1548\n",
            "Epoch 25/100\n",
            "484/484 [==============================] - 5s 10ms/step - loss: 4.3766 - accuracy: 0.1645\n",
            "Epoch 26/100\n",
            "484/484 [==============================] - 5s 11ms/step - loss: 4.2819 - accuracy: 0.1753\n",
            "Epoch 27/100\n",
            "484/484 [==============================] - 5s 11ms/step - loss: 4.2006 - accuracy: 0.1843\n",
            "Epoch 28/100\n",
            "484/484 [==============================] - 5s 11ms/step - loss: 4.1033 - accuracy: 0.1934\n",
            "Epoch 29/100\n",
            "484/484 [==============================] - 5s 11ms/step - loss: 4.0060 - accuracy: 0.2095\n",
            "Epoch 30/100\n",
            "484/484 [==============================] - 5s 10ms/step - loss: 3.9142 - accuracy: 0.2188\n",
            "Epoch 31/100\n",
            "484/484 [==============================] - 5s 11ms/step - loss: 3.8222 - accuracy: 0.2351\n",
            "Epoch 32/100\n",
            "484/484 [==============================] - 5s 10ms/step - loss: 3.7410 - accuracy: 0.2491\n",
            "Epoch 33/100\n",
            "484/484 [==============================] - 5s 10ms/step - loss: 3.6592 - accuracy: 0.2614\n",
            "Epoch 34/100\n",
            "484/484 [==============================] - 5s 11ms/step - loss: 3.5768 - accuracy: 0.2822\n",
            "Epoch 35/100\n",
            "484/484 [==============================] - 5s 10ms/step - loss: 3.4870 - accuracy: 0.3005\n",
            "Epoch 36/100\n",
            "484/484 [==============================] - 5s 11ms/step - loss: 3.4089 - accuracy: 0.3193\n",
            "Epoch 37/100\n",
            "484/484 [==============================] - 5s 11ms/step - loss: 3.3423 - accuracy: 0.3311\n",
            "Epoch 38/100\n",
            "484/484 [==============================] - 5s 11ms/step - loss: 3.2621 - accuracy: 0.3494\n",
            "Epoch 39/100\n",
            "484/484 [==============================] - 5s 11ms/step - loss: 3.1788 - accuracy: 0.3694\n",
            "Epoch 40/100\n",
            "484/484 [==============================] - 5s 11ms/step - loss: 3.1041 - accuracy: 0.3851\n",
            "Epoch 41/100\n",
            "484/484 [==============================] - 5s 11ms/step - loss: 3.0387 - accuracy: 0.4006\n",
            "Epoch 42/100\n",
            "484/484 [==============================] - 5s 11ms/step - loss: 2.9722 - accuracy: 0.4124\n",
            "Epoch 43/100\n",
            "484/484 [==============================] - 5s 11ms/step - loss: 2.9043 - accuracy: 0.4326\n",
            "Epoch 44/100\n",
            "484/484 [==============================] - 5s 11ms/step - loss: 2.8465 - accuracy: 0.4430\n",
            "Epoch 45/100\n",
            "484/484 [==============================] - 5s 11ms/step - loss: 2.7863 - accuracy: 0.4547\n",
            "Epoch 46/100\n",
            "484/484 [==============================] - 5s 11ms/step - loss: 2.7195 - accuracy: 0.4759\n",
            "Epoch 47/100\n",
            "484/484 [==============================] - 5s 11ms/step - loss: 2.6672 - accuracy: 0.4867\n",
            "Epoch 48/100\n",
            "484/484 [==============================] - 5s 11ms/step - loss: 2.6056 - accuracy: 0.4967\n",
            "Epoch 49/100\n",
            "484/484 [==============================] - 5s 11ms/step - loss: 2.5623 - accuracy: 0.5080\n",
            "Epoch 50/100\n",
            "484/484 [==============================] - 5s 11ms/step - loss: 2.5064 - accuracy: 0.5227\n",
            "Epoch 51/100\n",
            "484/484 [==============================] - 5s 11ms/step - loss: 2.4522 - accuracy: 0.5351\n",
            "Epoch 52/100\n",
            "484/484 [==============================] - 5s 10ms/step - loss: 2.3957 - accuracy: 0.5430\n",
            "Epoch 53/100\n",
            "484/484 [==============================] - 5s 11ms/step - loss: 2.3428 - accuracy: 0.5616\n",
            "Epoch 54/100\n",
            "484/484 [==============================] - 5s 11ms/step - loss: 2.3108 - accuracy: 0.5667\n",
            "Epoch 55/100\n",
            "484/484 [==============================] - 5s 10ms/step - loss: 2.2773 - accuracy: 0.5768\n",
            "Epoch 56/100\n",
            "484/484 [==============================] - 5s 11ms/step - loss: 2.2243 - accuracy: 0.5869\n",
            "Epoch 57/100\n",
            "484/484 [==============================] - 5s 11ms/step - loss: 2.1724 - accuracy: 0.5975\n",
            "Epoch 58/100\n",
            "484/484 [==============================] - 5s 11ms/step - loss: 2.1280 - accuracy: 0.6145\n",
            "Epoch 59/100\n",
            "484/484 [==============================] - 5s 11ms/step - loss: 2.0950 - accuracy: 0.6185\n",
            "Epoch 60/100\n",
            "484/484 [==============================] - 5s 11ms/step - loss: 2.0603 - accuracy: 0.6262\n",
            "Epoch 61/100\n",
            "484/484 [==============================] - 5s 11ms/step - loss: 2.0165 - accuracy: 0.6321\n",
            "Epoch 62/100\n",
            "484/484 [==============================] - 5s 11ms/step - loss: 1.9902 - accuracy: 0.6398\n",
            "Epoch 63/100\n",
            "484/484 [==============================] - 5s 10ms/step - loss: 1.9383 - accuracy: 0.6526\n",
            "Epoch 64/100\n",
            "484/484 [==============================] - 5s 11ms/step - loss: 1.9298 - accuracy: 0.6552\n",
            "Epoch 65/100\n",
            "484/484 [==============================] - 5s 11ms/step - loss: 1.8981 - accuracy: 0.6585\n",
            "Epoch 66/100\n",
            "484/484 [==============================] - 5s 11ms/step - loss: 1.8521 - accuracy: 0.6733\n",
            "Epoch 67/100\n",
            "484/484 [==============================] - 5s 11ms/step - loss: 1.8277 - accuracy: 0.6780\n",
            "Epoch 68/100\n",
            "484/484 [==============================] - 5s 11ms/step - loss: 1.7977 - accuracy: 0.6856\n",
            "Epoch 69/100\n",
            "484/484 [==============================] - 5s 11ms/step - loss: 1.7680 - accuracy: 0.6899\n",
            "Epoch 70/100\n",
            "484/484 [==============================] - 5s 11ms/step - loss: 1.7451 - accuracy: 0.6947\n",
            "Epoch 71/100\n",
            "484/484 [==============================] - 5s 11ms/step - loss: 1.7230 - accuracy: 0.7013\n",
            "Epoch 72/100\n",
            "484/484 [==============================] - 5s 11ms/step - loss: 1.6924 - accuracy: 0.7055\n",
            "Epoch 73/100\n",
            "484/484 [==============================] - 5s 11ms/step - loss: 1.6556 - accuracy: 0.7112\n",
            "Epoch 74/100\n",
            "484/484 [==============================] - 5s 11ms/step - loss: 1.6341 - accuracy: 0.7179\n",
            "Epoch 75/100\n",
            "484/484 [==============================] - 5s 11ms/step - loss: 1.6046 - accuracy: 0.7240\n",
            "Epoch 76/100\n",
            "484/484 [==============================] - 5s 11ms/step - loss: 1.5827 - accuracy: 0.7249\n",
            "Epoch 77/100\n",
            "484/484 [==============================] - 5s 11ms/step - loss: 1.5665 - accuracy: 0.7328\n",
            "Epoch 78/100\n",
            "484/484 [==============================] - 5s 11ms/step - loss: 1.5576 - accuracy: 0.7321\n",
            "Epoch 79/100\n",
            "484/484 [==============================] - 5s 11ms/step - loss: 1.5287 - accuracy: 0.7366\n",
            "Epoch 80/100\n",
            "484/484 [==============================] - 5s 11ms/step - loss: 1.5082 - accuracy: 0.7430\n",
            "Epoch 81/100\n",
            "484/484 [==============================] - 5s 11ms/step - loss: 1.4889 - accuracy: 0.7453\n",
            "Epoch 82/100\n",
            "484/484 [==============================] - 5s 11ms/step - loss: 1.4731 - accuracy: 0.7479\n",
            "Epoch 83/100\n",
            "484/484 [==============================] - 5s 11ms/step - loss: 1.4662 - accuracy: 0.7473\n",
            "Epoch 84/100\n",
            "484/484 [==============================] - 5s 11ms/step - loss: 1.4344 - accuracy: 0.7548\n",
            "Epoch 85/100\n",
            "484/484 [==============================] - 5s 11ms/step - loss: 1.4256 - accuracy: 0.7549\n",
            "Epoch 86/100\n",
            "484/484 [==============================] - 5s 11ms/step - loss: 1.4015 - accuracy: 0.7619\n",
            "Epoch 87/100\n",
            "484/484 [==============================] - 5s 11ms/step - loss: 1.3797 - accuracy: 0.7689\n",
            "Epoch 88/100\n",
            "484/484 [==============================] - 5s 11ms/step - loss: 1.3685 - accuracy: 0.7693\n",
            "Epoch 89/100\n",
            "484/484 [==============================] - 5s 11ms/step - loss: 1.3549 - accuracy: 0.7705\n",
            "Epoch 90/100\n",
            "484/484 [==============================] - 5s 11ms/step - loss: 1.3496 - accuracy: 0.7694\n",
            "Epoch 91/100\n",
            "484/484 [==============================] - 5s 11ms/step - loss: 1.3324 - accuracy: 0.7740\n",
            "Epoch 92/100\n",
            "484/484 [==============================] - 5s 11ms/step - loss: 1.3208 - accuracy: 0.7741\n",
            "Epoch 93/100\n",
            "484/484 [==============================] - 5s 11ms/step - loss: 1.2905 - accuracy: 0.7827\n",
            "Epoch 94/100\n",
            "484/484 [==============================] - 5s 11ms/step - loss: 1.2875 - accuracy: 0.7833\n",
            "Epoch 95/100\n",
            "484/484 [==============================] - 5s 11ms/step - loss: 1.2764 - accuracy: 0.7811\n",
            "Epoch 96/100\n",
            "484/484 [==============================] - 5s 10ms/step - loss: 1.2703 - accuracy: 0.7805\n",
            "Epoch 97/100\n",
            "484/484 [==============================] - 5s 11ms/step - loss: 1.2523 - accuracy: 0.7848\n",
            "Epoch 98/100\n",
            "484/484 [==============================] - 5s 11ms/step - loss: 1.2333 - accuracy: 0.7911\n",
            "Epoch 99/100\n",
            "484/484 [==============================] - 5s 11ms/step - loss: 1.2202 - accuracy: 0.7898\n",
            "Epoch 100/100\n",
            "484/484 [==============================] - 5s 11ms/step - loss: 1.2104 - accuracy: 0.7938\n"
          ],
          "name": "stdout"
        }
      ]
    },
    {
      "cell_type": "code",
      "metadata": {
        "colab_type": "code",
        "id": "1fXTEO3GJ282",
        "colab": {
          "base_uri": "https://localhost:8080/",
          "height": 545
        },
        "outputId": "e6e6669f-194f-42d7-f34a-344f0ee2d60e"
      },
      "source": [
        "import matplotlib.pyplot as plt\n",
        "acc = history.history['accuracy']\n",
        "loss = history.history['loss']\n",
        "\n",
        "epochs = range(len(acc))\n",
        "\n",
        "plt.plot(epochs, acc, 'b', label='Training accuracy')\n",
        "plt.title('Training accuracy')\n",
        "\n",
        "plt.figure()\n",
        "\n",
        "plt.plot(epochs, loss, 'b', label='Training Loss')\n",
        "plt.title('Training loss')\n",
        "plt.legend()\n",
        "\n",
        "plt.show()"
      ],
      "execution_count": 5,
      "outputs": [
        {
          "output_type": "display_data",
          "data": {
            "image/png": "[encoded data removed]",
            "text/plain": [
              "<Figure size 432x288 with 1 Axes>"
            ]
          },
          "metadata": {
            "tags": [],
            "needs_background": "light"
          }
        },
        {
          "output_type": "display_data",
          "data": {
            "image/png": "[encoded data removed]",
            "text/plain": [
              "<Figure size 432x288 with 1 Axes>"
            ]
          },
          "metadata": {
            "tags": [],
            "needs_background": "light"
          }
        }
      ]
    },
    {
      "cell_type": "code",
      "metadata": {
        "colab_type": "code",
        "id": "6Vc6PHgxa6Hm",
        "colab": {
          "base_uri": "https://localhost:8080/",
          "height": 105
        },
        "outputId": "563c874b-f958-422f-dfdd-76c5babd320c"
      },
      "source": [
        "seed_text = \"Help me Obi Wan Kenobi, you're my only hope\"\n",
        "next_words = 100\n",
        "  \n",
        "for _ in range(next_words):\n",
        "\ttoken_list = tokenizer.texts_to_sequences([seed_text])[0]\n",
        "\ttoken_list = pad_sequences([token_list], maxlen=max_sequence_len-1, padding='pre')\n",
        "\tpredicted = model.predict_classes(token_list, verbose=0)\n",
        "\toutput_word = \"\"\n",
        "\tfor word, index in tokenizer.word_index.items():\n",
        "\t\tif index == predicted:\n",
        "\t\t\toutput_word = word\n",
        "\t\t\tbreak\n",
        "\tseed_text += \" \" + output_word\n",
        "print(seed_text)"
      ],
      "execution_count": 6,
      "outputs": [
        {
          "output_type": "stream",
          "text": [
            "WARNING:tensorflow:From <ipython-input-6-622d307fa19a>:7: Sequential.predict_classes (from tensorflow.python.keras.engine.sequential) is deprecated and will be removed after 2021-01-01.\n",
            "Instructions for updating:\n",
            "Please use instead:* `np.argmax(model.predict(x), axis=-1)`,   if your model does multi-class classification   (e.g. if it uses a `softmax` last-layer activation).* `(model.predict(x) > 0.5).astype(\"int32\")`,   if your model does binary classification   (e.g. if it uses a `sigmoid` last-layer activation).\n",
            "Help me Obi Wan Kenobi, you're my only hope so men's mine eye nearly nearly hate end than rare hate end it still back back away away foes remain hate quite gone 'tis so expire 'greeing old end know find keep razed up more impute dyed hate end than hate fight tongue rare bright place dear judgment both still both thine eyes smell should call so true kind was thine than good old deem'd remain hate bright dead sits dyed hate stand live still on me clears on it much loving near such account dead truth releasing deeds was kind ' find doth altering or bad away things or\n"
          ],
          "name": "stdout"
        }
      ]
    },
    {
      "cell_type": "code",
      "metadata": {
        "id": "eitHynVtq_KT",
        "colab_type": "code",
        "colab": {}
      },
      "source": [
        ""
      ],
      "execution_count": 6,
      "outputs": []
    }
  ]
}