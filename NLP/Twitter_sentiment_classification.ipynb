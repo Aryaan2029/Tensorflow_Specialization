{
  "nbformat": 4,
  "nbformat_minor": 0,
  "metadata": {
    "accelerator": "GPU",
    "colab": {
      "name": "NLP Course - Week 3 Exercise Question.ipynb",
      "provenance": []
    },
    "kernelspec": {
      "display_name": "Python 3",
      "name": "python3"
    }
  },
  "cells": [
    {
      "cell_type": "code",
      "metadata": {
        "id": "zX4Kg8DUTKWO",
        "colab_type": "code",
        "colab": {}
      },
      "source": [
        "#@title Licensed under the Apache License, Version 2.0 (the \"License\");\n",
        "# you may not use this file except in compliance with the License.\n",
        "# You may obtain a copy of the License at\n",
        "#\n",
        "# https://www.apache.org/licenses/LICENSE-2.0\n",
        "#\n",
        "# Unless required by applicable law or agreed to in writing, software\n",
        "# distributed under the License is distributed on an \"AS IS\" BASIS,\n",
        "# WITHOUT WARRANTIES OR CONDITIONS OF ANY KIND, either express or implied.\n",
        "# See the License for the specific language governing permissions and\n",
        "# limitations under the License."
      ],
      "execution_count": 1,
      "outputs": []
    },
    {
      "cell_type": "code",
      "metadata": {
        "colab_type": "code",
        "id": "hmA6EzkQJ5jt",
        "colab": {}
      },
      "source": [
        "import json\n",
        "import tensorflow as tf\n",
        "import csv\n",
        "import random\n",
        "import numpy as np\n",
        "\n",
        "from tensorflow.keras.preprocessing.text import Tokenizer\n",
        "from tensorflow.keras.preprocessing.sequence import pad_sequences\n",
        "from tensorflow.keras.utils import to_categorical\n",
        "from tensorflow.keras import regularizers\n",
        "\n",
        "\n",
        "embedding_dim = 100\n",
        "max_length = 16\n",
        "trunc_type='post'\n",
        "padding_type='post'\n",
        "oov_tok = \"<OOV>\"\n",
        "training_size = 160000 \n",
        "test_portion=.1\n",
        "\n",
        "corpus = []\n"
      ],
      "execution_count": 1,
      "outputs": []
    },
    {
      "cell_type": "code",
      "metadata": {
        "colab_type": "code",
        "id": "bM0l_dORKqE0",
        "colab": {
          "base_uri": "https://localhost:8080/",
          "height": 204
        },
        "outputId": "dfd46f8d-b60f-4b92-9f93-7cb7e3235d5d"
      },
      "source": [
        "# Note that I cleaned the Stanford dataset to remove LATIN1 encoding to make it easier for Python CSV reader\n",
        "# You can do that yourself with:\n",
        "# iconv -f LATIN1 -t UTF8 training.1600000.processed.noemoticon.csv -o training_cleaned.csv\n",
        "# I then hosted it on my site to make it easier to use in this notebook\n",
        "\n",
        "!wget --no-check-certificate \\\n",
        "    https://storage.googleapis.com/laurencemoroney-blog.appspot.com/training_cleaned.csv \\\n",
        "    -O /tmp/training_cleaned.csv\n",
        "\n",
        "num_sentences = 0\n",
        "\n",
        "with open(\"/tmp/training_cleaned.csv\") as csvfile:\n",
        "    reader = csv.reader(csvfile, delimiter=',')\n",
        "    for row in reader:\n",
        "        list_item=[]\n",
        "        list_item.append(row[5])\n",
        "        this_label=row[0]\n",
        "        if this_label=='0':\n",
        "            list_item.append(0)\n",
        "        else:\n",
        "            list_item.append(1)\n",
        "        num_sentences = num_sentences + 1\n",
        "        corpus.append(list_item)\n",
        "\n"
      ],
      "execution_count": 2,
      "outputs": [
        {
          "output_type": "stream",
          "text": [
            "--2020-06-27 17:03:11--  https://storage.googleapis.com/laurencemoroney-blog.appspot.com/training_cleaned.csv\n",
            "Resolving storage.googleapis.com (storage.googleapis.com)... 108.177.125.128, 74.125.203.128, 64.233.189.128, ...\n",
            "Connecting to storage.googleapis.com (storage.googleapis.com)|108.177.125.128|:443... connected.\n",
            "HTTP request sent, awaiting response... 200 OK\n",
            "Length: 238942690 (228M) [application/octet-stream]\n",
            "Saving to: ‘/tmp/training_cleaned.csv’\n",
            "\n",
            "/tmp/training_clean 100%[===================>] 227.87M   130MB/s    in 1.8s    \n",
            "\n",
            "2020-06-27 17:03:13 (130 MB/s) - ‘/tmp/training_cleaned.csv’ saved [238942690/238942690]\n",
            "\n"
          ],
          "name": "stdout"
        }
      ]
    },
    {
      "cell_type": "code",
      "metadata": {
        "colab_type": "code",
        "id": "3kxblBUjEUX-",
        "colab": {
          "base_uri": "https://localhost:8080/",
          "height": 68
        },
        "outputId": "ebe768da-1a9f-44bc-ea5f-d89c09e3a4fb"
      },
      "source": [
        "print(num_sentences)\n",
        "print(len(corpus))\n",
        "print(corpus[1])\n",
        "\n",
        "# Expected Output:\n",
        "# 1600000\n",
        "# 1600000\n",
        "# [\"is upset that he can't update his Facebook by texting it... and might cry as a result  School today also. Blah!\", 0]"
      ],
      "execution_count": 3,
      "outputs": [
        {
          "output_type": "stream",
          "text": [
            "1600000\n",
            "1600000\n",
            "[\"is upset that he can't update his Facebook by texting it... and might cry as a result  School today also. Blah!\", 0]\n"
          ],
          "name": "stdout"
        }
      ]
    },
    {
      "cell_type": "code",
      "metadata": {
        "colab_type": "code",
        "id": "ohOGz24lsNAD",
        "colab": {}
      },
      "source": [
        "sentences=[]\n",
        "labels=[]\n",
        "random.shuffle(corpus)\n",
        "for x in range(training_size):\n",
        "    sentences.append(corpus[x][0])\n",
        "    labels.append(corpus[x][1])\n",
        "\n",
        "\n",
        "tokenizer = Tokenizer()\n",
        "tokenizer.fit_on_texts(sentences)\n",
        "\n",
        "word_index = tokenizer.word_index\n",
        "vocab_size=len(word_index)\n",
        "\n",
        "sequences = tokenizer.texts_to_sequences(sentences)\n",
        "padded = pad_sequences(sequences, maxlen=max_length, padding=padding_type, truncating=trunc_type)\n",
        "\n",
        "split = int(test_portion * training_size)\n",
        "\n",
        "test_sequences = padded[0:split]\n",
        "training_sequences = padded[split:training_size]\n",
        "test_labels = labels[0:split]\n",
        "training_labels = labels[split:training_size]"
      ],
      "execution_count": 4,
      "outputs": []
    },
    {
      "cell_type": "code",
      "metadata": {
        "colab_type": "code",
        "id": "gIrtRem1En3N",
        "colab": {
          "base_uri": "https://localhost:8080/",
          "height": 51
        },
        "outputId": "4acf5b79-289f-4f91-9b0a-517e43c40a82"
      },
      "source": [
        "print(vocab_size)\n",
        "print(word_index['i'])\n",
        "# Expected Output\n",
        "# 138858\n",
        "# 1"
      ],
      "execution_count": 5,
      "outputs": [
        {
          "output_type": "stream",
          "text": [
            "138917\n",
            "1\n"
          ],
          "name": "stdout"
        }
      ]
    },
    {
      "cell_type": "code",
      "metadata": {
        "colab_type": "code",
        "id": "C1zdgJkusRh0",
        "colab": {
          "base_uri": "https://localhost:8080/",
          "height": 204
        },
        "outputId": "14b00ccd-a090-4da6-dfd0-3936156e49b4"
      },
      "source": [
        "# Note this is the 100 dimension version of GloVe from Stanford\n",
        "# I unzipped and hosted it on my site to make this notebook easier\n",
        "!wget --no-check-certificate \\\n",
        "    https://storage.googleapis.com/laurencemoroney-blog.appspot.com/glove.6B.100d.txt \\\n",
        "    -O /tmp/glove.6B.100d.txt\n",
        "embeddings_index = {};\n",
        "with open('/tmp/glove.6B.100d.txt') as f:\n",
        "    for line in f:\n",
        "        values = line.split();\n",
        "        word = values[0];\n",
        "        coefs = np.asarray(values[1:], dtype='float32');\n",
        "        embeddings_index[word] = coefs;\n",
        "\n",
        "embeddings_matrix = np.zeros((vocab_size+1, embedding_dim));\n",
        "for word, i in word_index.items():\n",
        "    embedding_vector = embeddings_index.get(word);\n",
        "    if embedding_vector is not None:\n",
        "        embeddings_matrix[i] = embedding_vector;"
      ],
      "execution_count": 6,
      "outputs": [
        {
          "output_type": "stream",
          "text": [
            "--2020-06-27 17:03:29--  https://storage.googleapis.com/laurencemoroney-blog.appspot.com/glove.6B.100d.txt\n",
            "Resolving storage.googleapis.com (storage.googleapis.com)... 108.177.125.128, 74.125.203.128, 74.125.204.128, ...\n",
            "Connecting to storage.googleapis.com (storage.googleapis.com)|108.177.125.128|:443... connected.\n",
            "HTTP request sent, awaiting response... 200 OK\n",
            "Length: 347116733 (331M) [text/plain]\n",
            "Saving to: ‘/tmp/glove.6B.100d.txt’\n",
            "\n",
            "/tmp/glove.6B.100d. 100%[===================>] 331.04M   162MB/s    in 2.0s    \n",
            "\n",
            "2020-06-27 17:03:31 (162 MB/s) - ‘/tmp/glove.6B.100d.txt’ saved [347116733/347116733]\n",
            "\n"
          ],
          "name": "stdout"
        }
      ]
    },
    {
      "cell_type": "code",
      "metadata": {
        "colab_type": "code",
        "id": "71NLk_lpFLNt",
        "colab": {
          "base_uri": "https://localhost:8080/",
          "height": 34
        },
        "outputId": "84dd25e0-e291-43aa-a7ec-90f522fd6a73"
      },
      "source": [
        "print(len(embeddings_matrix))\n",
        "# Expected Output\n",
        "# 138859"
      ],
      "execution_count": 7,
      "outputs": [
        {
          "output_type": "stream",
          "text": [
            "138918\n"
          ],
          "name": "stdout"
        }
      ]
    },
    {
      "cell_type": "code",
      "metadata": {
        "colab_type": "code",
        "id": "iKKvbuEBOGFz",
        "colab": {
          "base_uri": "https://localhost:8080/",
          "height": 1000
        },
        "outputId": "1c90857a-0a3d-4c1f-95ca-0897b5a7488f"
      },
      "source": [
        "model = tf.keras.Sequential([\n",
        "    tf.keras.layers.Embedding(vocab_size+1, embedding_dim, input_length=max_length, weights=[embeddings_matrix], trainable=False),\n",
        "    tf.keras.layers.Conv1D(128, 5, activation='relu'),\n",
        "    tf.keras.layers.LSTM(64, return_sequences = True),\n",
        "    tf.keras.layers.Dropout(0.2),\n",
        "    tf.keras.layers.LSTM(32),\n",
        "    tf.keras.layers.Dropout(0.2),\n",
        "    tf.keras.layers.Dense(6, activation='relu'),\n",
        "    tf.keras.layers.Dense(1, activation='sigmoid')\n",
        "])\n",
        "\n",
        "model.compile(loss='binary_crossentropy',optimizer='adam',metrics=['accuracy'])\n",
        "model.summary()\n",
        "\n",
        "training_padded = np.array(training_sequences)\n",
        "training_labels = np.array(training_labels)\n",
        "testing_padded = np.array(test_sequences)\n",
        "testing_labels = np.array(test_labels)\n",
        "\n",
        "num_epochs = 50\n",
        "\n",
        "history = model.fit(training_padded, training_labels, epochs=num_epochs, validation_data=(testing_padded, testing_labels), verbose=2)\n",
        "\n",
        "print(\"Training Complete\")\n"
      ],
      "execution_count": 9,
      "outputs": [
        {
          "output_type": "stream",
          "text": [
            "Model: \"sequential\"\n",
            "_________________________________________________________________\n",
            "Layer (type)                 Output Shape              Param #   \n",
            "=================================================================\n",
            "embedding_1 (Embedding)      (None, 16, 100)           13891800  \n",
            "_________________________________________________________________\n",
            "conv1d_1 (Conv1D)            (None, 12, 128)           64128     \n",
            "_________________________________________________________________\n",
            "lstm (LSTM)                  (None, 12, 64)            49408     \n",
            "_________________________________________________________________\n",
            "dropout (Dropout)            (None, 12, 64)            0         \n",
            "_________________________________________________________________\n",
            "lstm_1 (LSTM)                (None, 32)                12416     \n",
            "_________________________________________________________________\n",
            "dropout_1 (Dropout)          (None, 32)                0         \n",
            "_________________________________________________________________\n",
            "dense (Dense)                (None, 6)                 198       \n",
            "_________________________________________________________________\n",
            "dense_1 (Dense)              (None, 1)                 7         \n",
            "=================================================================\n",
            "Total params: 14,017,957\n",
            "Trainable params: 126,157\n",
            "Non-trainable params: 13,891,800\n",
            "_________________________________________________________________\n",
            "Epoch 1/50\n",
            "4500/4500 - 43s - loss: 0.5504 - accuracy: 0.7156 - val_loss: 0.5139 - val_accuracy: 0.7416\n",
            "Epoch 2/50\n",
            "4500/4500 - 42s - loss: 0.4958 - accuracy: 0.7558 - val_loss: 0.4982 - val_accuracy: 0.7522\n",
            "Epoch 3/50\n",
            "4500/4500 - 42s - loss: 0.4675 - accuracy: 0.7762 - val_loss: 0.4920 - val_accuracy: 0.7580\n",
            "Epoch 4/50\n",
            "4500/4500 - 42s - loss: 0.4443 - accuracy: 0.7897 - val_loss: 0.4942 - val_accuracy: 0.7586\n",
            "Epoch 5/50\n",
            "4500/4500 - 42s - loss: 0.4216 - accuracy: 0.8033 - val_loss: 0.5116 - val_accuracy: 0.7521\n",
            "Epoch 6/50\n",
            "4500/4500 - 42s - loss: 0.3980 - accuracy: 0.8170 - val_loss: 0.5000 - val_accuracy: 0.7584\n",
            "Epoch 7/50\n",
            "4500/4500 - 42s - loss: 0.3777 - accuracy: 0.8273 - val_loss: 0.5294 - val_accuracy: 0.7539\n",
            "Epoch 8/50\n",
            "4500/4500 - 42s - loss: 0.3571 - accuracy: 0.8382 - val_loss: 0.5413 - val_accuracy: 0.7508\n",
            "Epoch 9/50\n",
            "4500/4500 - 42s - loss: 0.3374 - accuracy: 0.8493 - val_loss: 0.5742 - val_accuracy: 0.7456\n",
            "Epoch 10/50\n",
            "4500/4500 - 42s - loss: 0.3208 - accuracy: 0.8568 - val_loss: 0.5977 - val_accuracy: 0.7476\n",
            "Epoch 11/50\n",
            "4500/4500 - 42s - loss: 0.3037 - accuracy: 0.8658 - val_loss: 0.6263 - val_accuracy: 0.7454\n",
            "Epoch 12/50\n",
            "4500/4500 - 42s - loss: 0.2884 - accuracy: 0.8741 - val_loss: 0.6570 - val_accuracy: 0.7450\n",
            "Epoch 13/50\n",
            "4500/4500 - 42s - loss: 0.2740 - accuracy: 0.8811 - val_loss: 0.6514 - val_accuracy: 0.7399\n",
            "Epoch 14/50\n",
            "4500/4500 - 42s - loss: 0.2619 - accuracy: 0.8878 - val_loss: 0.6871 - val_accuracy: 0.7370\n",
            "Epoch 15/50\n",
            "4500/4500 - 42s - loss: 0.2504 - accuracy: 0.8930 - val_loss: 0.6669 - val_accuracy: 0.7430\n",
            "Epoch 16/50\n",
            "4500/4500 - 43s - loss: 0.2403 - accuracy: 0.8986 - val_loss: 0.7026 - val_accuracy: 0.7423\n",
            "Epoch 17/50\n",
            "4500/4500 - 42s - loss: 0.2319 - accuracy: 0.9016 - val_loss: 0.7696 - val_accuracy: 0.7394\n",
            "Epoch 18/50\n",
            "4500/4500 - 42s - loss: 0.2233 - accuracy: 0.9061 - val_loss: 0.8252 - val_accuracy: 0.7338\n",
            "Epoch 19/50\n",
            "4500/4500 - 42s - loss: 0.2145 - accuracy: 0.9099 - val_loss: 0.7552 - val_accuracy: 0.7381\n",
            "Epoch 20/50\n",
            "4500/4500 - 42s - loss: 0.2070 - accuracy: 0.9136 - val_loss: 0.8512 - val_accuracy: 0.7389\n",
            "Epoch 21/50\n",
            "4500/4500 - 42s - loss: 0.2002 - accuracy: 0.9165 - val_loss: 0.8509 - val_accuracy: 0.7329\n",
            "Epoch 22/50\n",
            "4500/4500 - 43s - loss: 0.1945 - accuracy: 0.9194 - val_loss: 0.8331 - val_accuracy: 0.7393\n",
            "Epoch 23/50\n",
            "4500/4500 - 43s - loss: 0.1874 - accuracy: 0.9227 - val_loss: 0.8807 - val_accuracy: 0.7323\n",
            "Epoch 24/50\n",
            "4500/4500 - 43s - loss: 0.1828 - accuracy: 0.9248 - val_loss: 0.8452 - val_accuracy: 0.7266\n",
            "Epoch 25/50\n",
            "4500/4500 - 42s - loss: 0.1787 - accuracy: 0.9263 - val_loss: 0.8907 - val_accuracy: 0.7311\n",
            "Epoch 26/50\n",
            "4500/4500 - 42s - loss: 0.1751 - accuracy: 0.9279 - val_loss: 0.8718 - val_accuracy: 0.7331\n",
            "Epoch 27/50\n",
            "4500/4500 - 42s - loss: 0.1713 - accuracy: 0.9301 - val_loss: 0.8996 - val_accuracy: 0.7271\n",
            "Epoch 28/50\n",
            "4500/4500 - 43s - loss: 0.1664 - accuracy: 0.9320 - val_loss: 0.9295 - val_accuracy: 0.7243\n",
            "Epoch 29/50\n",
            "4500/4500 - 43s - loss: 0.1645 - accuracy: 0.9325 - val_loss: 0.8765 - val_accuracy: 0.7301\n",
            "Epoch 30/50\n",
            "4500/4500 - 42s - loss: 0.1585 - accuracy: 0.9361 - val_loss: 0.9272 - val_accuracy: 0.7358\n",
            "Epoch 31/50\n",
            "4500/4500 - 43s - loss: 0.1566 - accuracy: 0.9368 - val_loss: 0.9544 - val_accuracy: 0.7318\n",
            "Epoch 32/50\n",
            "4500/4500 - 43s - loss: 0.1539 - accuracy: 0.9378 - val_loss: 0.9267 - val_accuracy: 0.7311\n",
            "Epoch 33/50\n",
            "4500/4500 - 43s - loss: 0.1520 - accuracy: 0.9382 - val_loss: 0.9099 - val_accuracy: 0.7275\n",
            "Epoch 34/50\n",
            "4500/4500 - 42s - loss: 0.1465 - accuracy: 0.9407 - val_loss: 0.9814 - val_accuracy: 0.7284\n",
            "Epoch 35/50\n",
            "4500/4500 - 42s - loss: 0.1463 - accuracy: 0.9408 - val_loss: 0.9723 - val_accuracy: 0.7283\n",
            "Epoch 36/50\n",
            "4500/4500 - 42s - loss: 0.1439 - accuracy: 0.9422 - val_loss: 0.9935 - val_accuracy: 0.7246\n",
            "Epoch 37/50\n",
            "4500/4500 - 42s - loss: 0.1422 - accuracy: 0.9426 - val_loss: 0.9708 - val_accuracy: 0.7287\n",
            "Epoch 38/50\n",
            "4500/4500 - 43s - loss: 0.1405 - accuracy: 0.9439 - val_loss: 0.9890 - val_accuracy: 0.7237\n",
            "Epoch 39/50\n",
            "4500/4500 - 43s - loss: 0.1375 - accuracy: 0.9456 - val_loss: 1.0584 - val_accuracy: 0.7301\n",
            "Epoch 40/50\n",
            "4500/4500 - 42s - loss: 0.1343 - accuracy: 0.9456 - val_loss: 1.1061 - val_accuracy: 0.7301\n",
            "Epoch 41/50\n",
            "4500/4500 - 42s - loss: 0.1342 - accuracy: 0.9463 - val_loss: 1.0074 - val_accuracy: 0.7298\n",
            "Epoch 42/50\n",
            "4500/4500 - 42s - loss: 0.1324 - accuracy: 0.9473 - val_loss: 0.9657 - val_accuracy: 0.7259\n",
            "Epoch 43/50\n",
            "4500/4500 - 42s - loss: 0.1319 - accuracy: 0.9480 - val_loss: 1.0723 - val_accuracy: 0.7284\n",
            "Epoch 44/50\n",
            "4500/4500 - 42s - loss: 0.1313 - accuracy: 0.9475 - val_loss: 1.0562 - val_accuracy: 0.7271\n",
            "Epoch 45/50\n",
            "4500/4500 - 42s - loss: 0.1279 - accuracy: 0.9489 - val_loss: 1.0446 - val_accuracy: 0.7209\n",
            "Epoch 46/50\n",
            "4500/4500 - 42s - loss: 0.1290 - accuracy: 0.9488 - val_loss: 1.1220 - val_accuracy: 0.7292\n",
            "Epoch 47/50\n",
            "4500/4500 - 42s - loss: 0.1258 - accuracy: 0.9507 - val_loss: 1.0300 - val_accuracy: 0.7259\n",
            "Epoch 48/50\n",
            "4500/4500 - 42s - loss: 0.1253 - accuracy: 0.9507 - val_loss: 1.0821 - val_accuracy: 0.7242\n",
            "Epoch 49/50\n",
            "4500/4500 - 42s - loss: 0.1237 - accuracy: 0.9515 - val_loss: 1.0978 - val_accuracy: 0.7271\n",
            "Epoch 50/50\n",
            "4500/4500 - 42s - loss: 0.1224 - accuracy: 0.9519 - val_loss: 1.0858 - val_accuracy: 0.7241\n",
            "Training Complete\n"
          ],
          "name": "stdout"
        }
      ]
    },
    {
      "cell_type": "code",
      "metadata": {
        "colab_type": "code",
        "id": "qxju4ItJKO8F",
        "colab": {
          "base_uri": "https://localhost:8080/",
          "height": 607
        },
        "outputId": "2f9e6eb6-b796-4ab7-e94f-c4f6e045337e"
      },
      "source": [
        "import matplotlib.image  as mpimg\n",
        "import matplotlib.pyplot as plt\n",
        "\n",
        "#-----------------------------------------------------------\n",
        "# Retrieve a list of list results on training and test data\n",
        "# sets for each training epoch\n",
        "#-----------------------------------------------------------\n",
        "acc=history.history['accuracy']\n",
        "val_acc=history.history['val_accuracy']\n",
        "loss=history.history['loss']\n",
        "val_loss=history.history['val_loss']\n",
        "\n",
        "epochs=range(len(acc)) # Get number of epochs\n",
        "\n",
        "#------------------------------------------------\n",
        "# Plot training and validation accuracy per epoch\n",
        "#------------------------------------------------\n",
        "plt.plot(epochs, acc, 'r')\n",
        "plt.plot(epochs, val_acc, 'b')\n",
        "plt.title('Training and validation accuracy')\n",
        "plt.xlabel(\"Epochs\")\n",
        "plt.ylabel(\"Accuracy\")\n",
        "plt.legend([\"Accuracy\", \"Validation Accuracy\"])\n",
        "\n",
        "plt.figure()\n",
        "\n",
        "#------------------------------------------------\n",
        "# Plot training and validation loss per epoch\n",
        "#------------------------------------------------\n",
        "plt.plot(epochs, loss, 'r')\n",
        "plt.plot(epochs, val_loss, 'b')\n",
        "plt.title('Training and validation loss')\n",
        "plt.xlabel(\"Epochs\")\n",
        "plt.ylabel(\"Loss\")\n",
        "plt.legend([\"Loss\", \"Validation Loss\"])\n",
        "\n",
        "plt.figure()\n",
        "\n",
        "\n",
        "# Expected Output\n",
        "# A chart where the validation loss does not increase sharply!"
      ],
      "execution_count": 10,
      "outputs": [
        {
          "output_type": "execute_result",
          "data": {
            "text/plain": [
              "<Figure size 432x288 with 0 Axes>"
            ]
          },
          "metadata": {
            "tags": []
          },
          "execution_count": 10
        },
        {
          "output_type": "display_data",
          "data": {
            "image/png": "[encoded data removed]",
            "text/plain": [
              "<Figure size 432x288 with 1 Axes>"
            ]
          },
          "metadata": {
            "tags": [],
            "needs_background": "light"
          }
        },
        {
          "output_type": "display_data",
          "data": {
            "image/png": "[encoded data removed]",
            "text/plain": [
              "<Figure size 432x288 with 1 Axes>"
            ]
          },
          "metadata": {
            "tags": [],
            "needs_background": "light"
          }
        },
        {
          "output_type": "display_data",
          "data": {
            "text/plain": [
              "<Figure size 432x288 with 0 Axes>"
            ]
          },
          "metadata": {
            "tags": []
          }
        }
      ]
    },
    {
      "cell_type": "code",
      "metadata": {
        "id": "L61W3_Di2MeR",
        "colab_type": "code",
        "colab": {}
      },
      "source": [
        ""
      ],
      "execution_count": null,
      "outputs": []
    }
  ]
}